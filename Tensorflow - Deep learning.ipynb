{
 "cells": [
  {
   "cell_type": "code",
   "execution_count": 2,
   "id": "f69d1d1f",
   "metadata": {},
   "outputs": [],
   "source": [
    "import tensorflow as tf\n",
    "import pandas as pd\n",
    "import numpy as np\n",
    "import matplotlib.pyplot as plt\n",
    "import seaborn as sb\n",
    "from sklearn.model_selection import train_test_split"
   ]
  },
  {
   "cell_type": "code",
   "execution_count": 3,
   "id": "31c04f25",
   "metadata": {},
   "outputs": [],
   "source": [
    "test = pd.read_csv('testData.txt', sep=',')\n",
    "train = pd.read_csv('trainData.txt', sep=',')"
   ]
  },
  {
   "cell_type": "code",
   "execution_count": 4,
   "id": "f944201b",
   "metadata": {},
   "outputs": [
    {
     "data": {
      "text/html": [
       "<div>\n",
       "<style scoped>\n",
       "    .dataframe tbody tr th:only-of-type {\n",
       "        vertical-align: middle;\n",
       "    }\n",
       "\n",
       "    .dataframe tbody tr th {\n",
       "        vertical-align: top;\n",
       "    }\n",
       "\n",
       "    .dataframe thead th {\n",
       "        text-align: right;\n",
       "    }\n",
       "</style>\n",
       "<table border=\"1\" class=\"dataframe\">\n",
       "  <thead>\n",
       "    <tr style=\"text-align: right;\">\n",
       "      <th></th>\n",
       "      <th>date</th>\n",
       "      <th>Temperature</th>\n",
       "      <th>Humidity</th>\n",
       "      <th>Light</th>\n",
       "      <th>CO2</th>\n",
       "      <th>HumidityRatio</th>\n",
       "      <th>Occupancy</th>\n",
       "    </tr>\n",
       "  </thead>\n",
       "  <tbody>\n",
       "    <tr>\n",
       "      <th>1</th>\n",
       "      <td>2015-02-11 14:48:00</td>\n",
       "      <td>21.7600</td>\n",
       "      <td>31.133333</td>\n",
       "      <td>437.333333</td>\n",
       "      <td>1029.666667</td>\n",
       "      <td>0.005021</td>\n",
       "      <td>1</td>\n",
       "    </tr>\n",
       "    <tr>\n",
       "      <th>2</th>\n",
       "      <td>2015-02-11 14:49:00</td>\n",
       "      <td>21.7900</td>\n",
       "      <td>31.000000</td>\n",
       "      <td>437.333333</td>\n",
       "      <td>1000.000000</td>\n",
       "      <td>0.005009</td>\n",
       "      <td>1</td>\n",
       "    </tr>\n",
       "    <tr>\n",
       "      <th>3</th>\n",
       "      <td>2015-02-11 14:50:00</td>\n",
       "      <td>21.7675</td>\n",
       "      <td>31.122500</td>\n",
       "      <td>434.000000</td>\n",
       "      <td>1003.750000</td>\n",
       "      <td>0.005022</td>\n",
       "      <td>1</td>\n",
       "    </tr>\n",
       "    <tr>\n",
       "      <th>4</th>\n",
       "      <td>2015-02-11 14:51:00</td>\n",
       "      <td>21.7675</td>\n",
       "      <td>31.122500</td>\n",
       "      <td>439.000000</td>\n",
       "      <td>1009.500000</td>\n",
       "      <td>0.005022</td>\n",
       "      <td>1</td>\n",
       "    </tr>\n",
       "    <tr>\n",
       "      <th>5</th>\n",
       "      <td>2015-02-11 14:51:59</td>\n",
       "      <td>21.7900</td>\n",
       "      <td>31.133333</td>\n",
       "      <td>437.333333</td>\n",
       "      <td>1005.666667</td>\n",
       "      <td>0.005030</td>\n",
       "      <td>1</td>\n",
       "    </tr>\n",
       "  </tbody>\n",
       "</table>\n",
       "</div>"
      ],
      "text/plain": [
       "                  date  Temperature   Humidity       Light          CO2  \\\n",
       "1  2015-02-11 14:48:00      21.7600  31.133333  437.333333  1029.666667   \n",
       "2  2015-02-11 14:49:00      21.7900  31.000000  437.333333  1000.000000   \n",
       "3  2015-02-11 14:50:00      21.7675  31.122500  434.000000  1003.750000   \n",
       "4  2015-02-11 14:51:00      21.7675  31.122500  439.000000  1009.500000   \n",
       "5  2015-02-11 14:51:59      21.7900  31.133333  437.333333  1005.666667   \n",
       "\n",
       "   HumidityRatio  Occupancy  \n",
       "1       0.005021          1  \n",
       "2       0.005009          1  \n",
       "3       0.005022          1  \n",
       "4       0.005022          1  \n",
       "5       0.005030          1  "
      ]
     },
     "execution_count": 4,
     "metadata": {},
     "output_type": "execute_result"
    }
   ],
   "source": [
    "test.head()"
   ]
  },
  {
   "cell_type": "code",
   "execution_count": 5,
   "id": "a918a5c3",
   "metadata": {},
   "outputs": [
    {
     "data": {
      "text/html": [
       "<div>\n",
       "<style scoped>\n",
       "    .dataframe tbody tr th:only-of-type {\n",
       "        vertical-align: middle;\n",
       "    }\n",
       "\n",
       "    .dataframe tbody tr th {\n",
       "        vertical-align: top;\n",
       "    }\n",
       "\n",
       "    .dataframe thead th {\n",
       "        text-align: right;\n",
       "    }\n",
       "</style>\n",
       "<table border=\"1\" class=\"dataframe\">\n",
       "  <thead>\n",
       "    <tr style=\"text-align: right;\">\n",
       "      <th></th>\n",
       "      <th>date</th>\n",
       "      <th>Temperature</th>\n",
       "      <th>Humidity</th>\n",
       "      <th>Light</th>\n",
       "      <th>CO2</th>\n",
       "      <th>HumidityRatio</th>\n",
       "      <th>Occupancy</th>\n",
       "    </tr>\n",
       "  </thead>\n",
       "  <tbody>\n",
       "    <tr>\n",
       "      <th>1</th>\n",
       "      <td>2015-02-04 17:51:00</td>\n",
       "      <td>23.18</td>\n",
       "      <td>27.2720</td>\n",
       "      <td>426.0</td>\n",
       "      <td>721.25</td>\n",
       "      <td>0.004793</td>\n",
       "      <td>1</td>\n",
       "    </tr>\n",
       "    <tr>\n",
       "      <th>2</th>\n",
       "      <td>2015-02-04 17:51:59</td>\n",
       "      <td>23.15</td>\n",
       "      <td>27.2675</td>\n",
       "      <td>429.5</td>\n",
       "      <td>714.00</td>\n",
       "      <td>0.004783</td>\n",
       "      <td>1</td>\n",
       "    </tr>\n",
       "    <tr>\n",
       "      <th>3</th>\n",
       "      <td>2015-02-04 17:53:00</td>\n",
       "      <td>23.15</td>\n",
       "      <td>27.2450</td>\n",
       "      <td>426.0</td>\n",
       "      <td>713.50</td>\n",
       "      <td>0.004779</td>\n",
       "      <td>1</td>\n",
       "    </tr>\n",
       "    <tr>\n",
       "      <th>4</th>\n",
       "      <td>2015-02-04 17:54:00</td>\n",
       "      <td>23.15</td>\n",
       "      <td>27.2000</td>\n",
       "      <td>426.0</td>\n",
       "      <td>708.25</td>\n",
       "      <td>0.004772</td>\n",
       "      <td>1</td>\n",
       "    </tr>\n",
       "    <tr>\n",
       "      <th>5</th>\n",
       "      <td>2015-02-04 17:55:00</td>\n",
       "      <td>23.10</td>\n",
       "      <td>27.2000</td>\n",
       "      <td>426.0</td>\n",
       "      <td>704.50</td>\n",
       "      <td>0.004757</td>\n",
       "      <td>1</td>\n",
       "    </tr>\n",
       "  </tbody>\n",
       "</table>\n",
       "</div>"
      ],
      "text/plain": [
       "                  date  Temperature  Humidity  Light     CO2  HumidityRatio  \\\n",
       "1  2015-02-04 17:51:00        23.18   27.2720  426.0  721.25       0.004793   \n",
       "2  2015-02-04 17:51:59        23.15   27.2675  429.5  714.00       0.004783   \n",
       "3  2015-02-04 17:53:00        23.15   27.2450  426.0  713.50       0.004779   \n",
       "4  2015-02-04 17:54:00        23.15   27.2000  426.0  708.25       0.004772   \n",
       "5  2015-02-04 17:55:00        23.10   27.2000  426.0  704.50       0.004757   \n",
       "\n",
       "   Occupancy  \n",
       "1          1  \n",
       "2          1  \n",
       "3          1  \n",
       "4          1  \n",
       "5          1  "
      ]
     },
     "execution_count": 5,
     "metadata": {},
     "output_type": "execute_result"
    }
   ],
   "source": [
    "train.head()"
   ]
  },
  {
   "cell_type": "code",
   "execution_count": 6,
   "id": "6d51c93d",
   "metadata": {},
   "outputs": [
    {
     "data": {
      "text/plain": [
       "(8143, 7)"
      ]
     },
     "execution_count": 6,
     "metadata": {},
     "output_type": "execute_result"
    }
   ],
   "source": [
    "train.shape"
   ]
  },
  {
   "cell_type": "code",
   "execution_count": 7,
   "id": "5da6c600",
   "metadata": {},
   "outputs": [
    {
     "data": {
      "text/plain": [
       "(9752, 7)"
      ]
     },
     "execution_count": 7,
     "metadata": {},
     "output_type": "execute_result"
    }
   ],
   "source": [
    "test.shape"
   ]
  },
  {
   "cell_type": "markdown",
   "id": "3dbf1b13",
   "metadata": {},
   "source": [
    "#### (a) State the number of training samples. Also, state the number of test samples.\n",
    "- The number of training samples = 8,143 records\n",
    "- The number of testing samples = 9,752 records"
   ]
  },
  {
   "cell_type": "code",
   "execution_count": 149,
   "id": "5f94fe6a",
   "metadata": {},
   "outputs": [],
   "source": [
    "X = train.iloc[:8000, 1:6]\n",
    "Y = test.iloc[:8000, -1:]"
   ]
  },
  {
   "cell_type": "code",
   "execution_count": 150,
   "id": "76e31163",
   "metadata": {},
   "outputs": [
    {
     "data": {
      "text/plain": [
       "(8000, 5)"
      ]
     },
     "execution_count": 150,
     "metadata": {},
     "output_type": "execute_result"
    }
   ],
   "source": [
    "X.shape"
   ]
  },
  {
   "cell_type": "code",
   "execution_count": 151,
   "id": "d07e3f62",
   "metadata": {},
   "outputs": [
    {
     "data": {
      "text/plain": [
       "(8000, 1)"
      ]
     },
     "execution_count": 151,
     "metadata": {},
     "output_type": "execute_result"
    }
   ],
   "source": [
    "Y.shape"
   ]
  },
  {
   "cell_type": "code",
   "execution_count": 152,
   "id": "7ae4ecbe",
   "metadata": {},
   "outputs": [],
   "source": [
    "x_train, x_test, y_train, y_test = train_test_split(X, Y, test_size=0.2, random_state=0)"
   ]
  },
  {
   "cell_type": "markdown",
   "id": "0174cf84",
   "metadata": {},
   "source": [
    "#### (b) Run a simulation using TensorFlow and vary the number of hidden units and make a plot."
   ]
  },
  {
   "cell_type": "code",
   "execution_count": 170,
   "id": "1630a44c",
   "metadata": {},
   "outputs": [
    {
     "name": "stdout",
     "output_type": "stream",
     "text": [
      "Model: \"sequential_21\"\n",
      "_________________________________________________________________\n",
      " Layer (type)                Output Shape              Param #   \n",
      "=================================================================\n",
      " dense_72 (Dense)            (None, 32)                192       \n",
      "                                                                 \n",
      " dense_73 (Dense)            (None, 64)                2112      \n",
      "                                                                 \n",
      " dense_74 (Dense)            (None, 1)                 65        \n",
      "                                                                 \n",
      "=================================================================\n",
      "Total params: 2,369\n",
      "Trainable params: 2,369\n",
      "Non-trainable params: 0\n",
      "_________________________________________________________________\n"
     ]
    }
   ],
   "source": [
    "model = tf.keras.Sequential()\n",
    "#model.add(tf.keras.Input(shape=(5, )))\n",
    "model.add(tf.keras.layers.Dense(32, activation='softplus',input_shape=(5, ))) #Input layer\n",
    "model.add(tf.keras.layers.Dense(64, activation='softplus')) #Hidden Layer\n",
    "model.add(tf.keras.layers.Dense(1, activation='sigmoid')) #Output layer\n",
    "\n",
    "model.summary()"
   ]
  },
  {
   "cell_type": "code",
   "execution_count": 171,
   "id": "00a1cfba",
   "metadata": {},
   "outputs": [],
   "source": [
    "#loss_fn = tf.keras.losses.binary_focal_crossentropy()\n",
    "#opt = tf.keras.optimizers.Adam(learning_rate=0.001)\n",
    "model.compile(optimizer= 'adam', loss= 'binary_crossentropy', metrics=['accuracy'])"
   ]
  },
  {
   "cell_type": "code",
   "execution_count": 172,
   "id": "14ccad09",
   "metadata": {},
   "outputs": [
    {
     "name": "stdout",
     "output_type": "stream",
     "text": [
      "Epoch 1/10\n",
      "100/100 [==============================] - 2s 9ms/step - loss: 1.1252 - accuracy: 0.7951 - val_loss: 0.7520 - val_accuracy: 0.6755\n",
      "Epoch 2/10\n",
      "100/100 [==============================] - 0s 4ms/step - loss: 0.4154 - accuracy: 0.8500 - val_loss: 0.4753 - val_accuracy: 0.8375\n",
      "Epoch 3/10\n",
      "100/100 [==============================] - 0s 4ms/step - loss: 0.5709 - accuracy: 0.8348 - val_loss: 0.3333 - val_accuracy: 0.8552\n",
      "Epoch 4/10\n",
      "100/100 [==============================] - 0s 5ms/step - loss: 0.3645 - accuracy: 0.8647 - val_loss: 0.2996 - val_accuracy: 0.8906\n",
      "Epoch 5/10\n",
      "100/100 [==============================] - 0s 4ms/step - loss: 0.4106 - accuracy: 0.8565 - val_loss: 0.4671 - val_accuracy: 0.8495\n",
      "Epoch 6/10\n",
      "100/100 [==============================] - 0s 3ms/step - loss: 0.4174 - accuracy: 0.8538 - val_loss: 0.4052 - val_accuracy: 0.8625\n",
      "Epoch 7/10\n",
      "100/100 [==============================] - 0s 4ms/step - loss: 0.4983 - accuracy: 0.8549 - val_loss: 0.3387 - val_accuracy: 0.8760\n",
      "Epoch 8/10\n",
      "100/100 [==============================] - 0s 4ms/step - loss: 0.4239 - accuracy: 0.8587 - val_loss: 0.4825 - val_accuracy: 0.8344\n",
      "Epoch 9/10\n",
      "100/100 [==============================] - 0s 5ms/step - loss: 0.4168 - accuracy: 0.8589 - val_loss: 0.3638 - val_accuracy: 0.8740\n",
      "Epoch 10/10\n",
      "100/100 [==============================] - 0s 4ms/step - loss: 0.4677 - accuracy: 0.8487 - val_loss: 0.4607 - val_accuracy: 0.8740\n"
     ]
    }
   ],
   "source": [
    "fit_model = model.fit(x_train, y_train, epochs=10, validation_split=0.3, steps_per_epoch=100)"
   ]
  },
  {
   "cell_type": "code",
   "execution_count": 173,
   "id": "5bef79e9",
   "metadata": {},
   "outputs": [
    {
     "data": {
      "image/png": "[encoded data removed]",
      "text/plain": [
       "<Figure size 1080x288 with 2 Axes>"
      ]
     },
     "metadata": {
      "needs_background": "light"
     },
     "output_type": "display_data"
    }
   ],
   "source": [
    "#Plot the model accuracy metrics\n",
    "\n",
    "fig = plt.figure(figsize=(15,4))\n",
    "fig.add_subplot(121)\n",
    "plt.plot(fit_model.history['accuracy'])\n",
    "plt.plot(fit_model.history['val_accuracy'])\n",
    "plt.legend(['Training accuracy', 'validation accuracy'])\n",
    "plt.title('Training and validation accuracies')\n",
    "plt.xlabel('Epoch #')\n",
    "plt.ylabel('Accuracy')\n",
    "\n",
    "\n",
    "fig.add_subplot(122)\n",
    "plt.plot(fit_model.history['loss'])\n",
    "plt.plot(fit_model.history['val_loss'])\n",
    "plt.legend(['Training loss', 'validation loss'])\n",
    "plt.title('Training and validation losses')\n",
    "plt.xlabel('Epoch #')\n",
    "plt.ylabel('Loss');"
   ]
  },
  {
   "cell_type": "code",
   "execution_count": 174,
   "id": "4cf76083",
   "metadata": {
    "scrolled": true
   },
   "outputs": [
    {
     "name": "stdout",
     "output_type": "stream",
     "text": [
      "200/200 [==============================] - 0s 2ms/step - loss: 0.4401 - accuracy: 0.8730\n",
      "50/50 [==============================] - 0s 2ms/step - loss: 0.4587 - accuracy: 0.8656\n",
      "\n",
      "classification accuracy on training data: 87.30%\n",
      "classification accuracy on test data: 86.56%\n",
      "classification loss on training data: 0.440\n",
      "classification loss on test data: 0.459\n"
     ]
    }
   ],
   "source": [
    "train_loss, train_acc = model.evaluate(x_train, y_train)\n",
    "test_loss, test_acc = model.evaluate(x_test, y_test)\n",
    "\n",
    "print(f'\\nclassification accuracy on training data: {train_acc*100:.2f}%')\n",
    "print(f'classification accuracy on test data: {test_acc*100:.2f}%')\n",
    "print(f'classification loss on training data: {train_loss:.3f}')\n",
    "print(f'classification loss on test data: {test_loss:.3f}')"
   ]
  },
  {
   "cell_type": "code",
   "execution_count": 175,
   "id": "2b099f78",
   "metadata": {},
   "outputs": [
    {
     "name": "stdout",
     "output_type": "stream",
     "text": [
      "50/50 [==============================] - 0s 2ms/step\n"
     ]
    },
    {
     "data": {
      "image/png": "[encoded data removed]",
      "text/plain": [
       "<Figure size 432x288 with 2 Axes>"
      ]
     },
     "metadata": {
      "needs_background": "light"
     },
     "output_type": "display_data"
    }
   ],
   "source": [
    "predict = model.predict(x_test)\n",
    "test_predict_labels = np.argmax(predict, axis = 1)\n",
    "confusion_matrix = tf.math.confusion_matrix(labels= y_test, predictions=test_predict_labels)\n",
    "sb.heatmap(data= confusion_matrix, annot=True, fmt='g');"
   ]
  },
  {
   "cell_type": "markdown",
   "id": "1ee080bf",
   "metadata": {},
   "source": [
    "#### (c) Discuss (interpret) the results\n",
    "\n",
    "- The model acheived an 87.30% training accuracy and 86.56% testing accuracy on the training data.\n",
    "- The model runs with only one hidden layer with 64 nodes. The optimizer is Adam while the loss function is binary cross entropy.\n",
    "- The architecture is 5-h1-1\n",
    "- The training and validation accuracy and loss curves show that the training and validation was not very smooth and consistent hence the model can still be improved to perform better."
   ]
  },
  {
   "cell_type": "markdown",
   "id": "deb50125",
   "metadata": {},
   "source": [
    "#### (d) Add a second hidden layer, and train a few architectures with 2 hidden layers. \n",
    "- Report what architectures you tried (expressed as 5-h1-h2-1, i.e., 5 input, h1 hidden in first layer, h2 hidden in second layer, and one output unit)"
   ]
  },
  {
   "cell_type": "code",
   "execution_count": 182,
   "id": "09088649",
   "metadata": {
    "scrolled": true
   },
   "outputs": [
    {
     "name": "stdout",
     "output_type": "stream",
     "text": [
      "Model: \"sequential_23\"\n",
      "_________________________________________________________________\n",
      " Layer (type)                Output Shape              Param #   \n",
      "=================================================================\n",
      " dense_79 (Dense)            (None, 32)                192       \n",
      "                                                                 \n",
      " dense_80 (Dense)            (None, 64)                2112      \n",
      "                                                                 \n",
      " dense_81 (Dense)            (None, 64)                4160      \n",
      "                                                                 \n",
      " dense_82 (Dense)            (None, 1)                 65        \n",
      "                                                                 \n",
      "=================================================================\n",
      "Total params: 6,529\n",
      "Trainable params: 6,529\n",
      "Non-trainable params: 0\n",
      "_________________________________________________________________\n"
     ]
    }
   ],
   "source": [
    "model2 = tf.keras.Sequential()\n",
    "model2.add(tf.keras.layers.Dense(32, activation='softplus',input_shape=(5, ))) #Input layer\n",
    "model2.add(tf.keras.layers.Dense(64, activation='softplus')) #Hidden Layer\n",
    "model2.add(tf.keras.layers.Dense(64, activation='softplus')) #Hidden Layer\n",
    "model2.add(tf.keras.layers.Dense(1, activation='sigmoid')) #Output layer\n",
    "\n",
    "model2.summary()"
   ]
  },
  {
   "cell_type": "code",
   "execution_count": 183,
   "id": "b5cbadc6",
   "metadata": {},
   "outputs": [],
   "source": [
    "opt = tf.keras.optimizers.Adam(\n",
    "    learning_rate=0.01,\n",
    "    beta_1=0.9,\n",
    "    beta_2=0.999,\n",
    "    epsilon=1e-07,\n",
    "    amsgrad=False,\n",
    "    name=\"Adam\"\n",
    ")\n",
    "\n",
    "\n",
    "loss_fn = tf.keras.losses.BinaryCrossentropy(from_logits=True, label_smoothing=0.0, axis=-1, reduction=\"auto\", name=\"binary_crossentropy\")\n",
    "\n",
    "model2.compile(optimizer= opt, loss= loss_fn, metrics=['accuracy'])"
   ]
  },
  {
   "cell_type": "code",
   "execution_count": 184,
   "id": "b2a6bdff",
   "metadata": {},
   "outputs": [
    {
     "name": "stdout",
     "output_type": "stream",
     "text": [
      "Epoch 1/10\n"
     ]
    },
    {
     "name": "stderr",
     "output_type": "stream",
     "text": [
      "C:\\Users\\Nonny\\anaconda3\\lib\\site-packages\\keras\\backend.py:5673: UserWarning: \"`binary_crossentropy` received `from_logits=True`, but the `output` argument was produced by a Sigmoid activation and thus does not represent logits. Was this intended?\n",
      "  output, from_logits = _get_logits(\n"
     ]
    },
    {
     "name": "stdout",
     "output_type": "stream",
     "text": [
      " 96/100 [===========================>..] - ETA: 0s - loss: 2.9802 - accuracy: 0.7780"
     ]
    },
    {
     "name": "stderr",
     "output_type": "stream",
     "text": [
      "C:\\Users\\Nonny\\anaconda3\\lib\\site-packages\\keras\\backend.py:5673: UserWarning: \"`binary_crossentropy` received `from_logits=True`, but the `output` argument was produced by a Sigmoid activation and thus does not represent logits. Was this intended?\n",
      "  output, from_logits = _get_logits(\n"
     ]
    },
    {
     "name": "stdout",
     "output_type": "stream",
     "text": [
      "100/100 [==============================] - 2s 8ms/step - loss: 2.8873 - accuracy: 0.7812 - val_loss: 0.3632 - val_accuracy: 0.8464\n",
      "Epoch 2/10\n",
      "100/100 [==============================] - 0s 4ms/step - loss: 0.3964 - accuracy: 0.8482 - val_loss: 0.4425 - val_accuracy: 0.8464\n",
      "Epoch 3/10\n",
      "100/100 [==============================] - 0s 4ms/step - loss: 0.3497 - accuracy: 0.8612 - val_loss: 0.3333 - val_accuracy: 0.8646\n",
      "Epoch 4/10\n",
      "100/100 [==============================] - 0s 5ms/step - loss: 0.3389 - accuracy: 0.8603 - val_loss: 0.2949 - val_accuracy: 0.8609\n",
      "Epoch 5/10\n",
      "100/100 [==============================] - 0s 4ms/step - loss: 0.3286 - accuracy: 0.8621 - val_loss: 0.2880 - val_accuracy: 0.8734\n",
      "Epoch 6/10\n",
      "100/100 [==============================] - 0s 5ms/step - loss: 0.2955 - accuracy: 0.8712 - val_loss: 0.3024 - val_accuracy: 0.8818\n",
      "Epoch 7/10\n",
      "100/100 [==============================] - 0s 4ms/step - loss: 0.2883 - accuracy: 0.8712 - val_loss: 0.2914 - val_accuracy: 0.8719\n",
      "Epoch 8/10\n",
      "100/100 [==============================] - 0s 4ms/step - loss: 0.2879 - accuracy: 0.8748 - val_loss: 0.2761 - val_accuracy: 0.8740\n",
      "Epoch 9/10\n",
      "100/100 [==============================] - 0s 4ms/step - loss: 0.2639 - accuracy: 0.8817 - val_loss: 0.2803 - val_accuracy: 0.8609\n",
      "Epoch 10/10\n",
      "100/100 [==============================] - 0s 4ms/step - loss: 0.2758 - accuracy: 0.8743 - val_loss: 0.2599 - val_accuracy: 0.8667\n"
     ]
    }
   ],
   "source": [
    "fitted_model = model2.fit(x_train, y_train, epochs=10, validation_split=0.3, steps_per_epoch=100)"
   ]
  },
  {
   "cell_type": "code",
   "execution_count": 185,
   "id": "7c781d63",
   "metadata": {},
   "outputs": [
    {
     "data": {
      "image/png": "[encoded data removed]",
      "text/plain": [
       "<Figure size 1080x288 with 2 Axes>"
      ]
     },
     "metadata": {
      "needs_background": "light"
     },
     "output_type": "display_data"
    }
   ],
   "source": [
    "#Plot the model accuracy metrics\n",
    "\n",
    "fig = plt.figure(figsize=(15,4))\n",
    "fig.add_subplot(121)\n",
    "plt.plot(fitted_model.history['accuracy'])\n",
    "plt.plot(fitted_model.history['val_accuracy'])\n",
    "plt.legend(['Training accuracy', 'validation accuracy'])\n",
    "plt.title('Training and validation accuracies')\n",
    "plt.xlabel('Epoch #')\n",
    "plt.ylabel('Accuracy')\n",
    "\n",
    "\n",
    "fig.add_subplot(122)\n",
    "plt.plot(fitted_model.history['loss'])\n",
    "plt.plot(fitted_model.history['val_loss'])\n",
    "plt.legend(['Training loss', 'validation loss'])\n",
    "plt.title('Training and validation losses')\n",
    "plt.xlabel('Epoch #')\n",
    "plt.ylabel('Loss');"
   ]
  },
  {
   "cell_type": "code",
   "execution_count": 186,
   "id": "70176b37",
   "metadata": {},
   "outputs": [
    {
     "name": "stdout",
     "output_type": "stream",
     "text": [
      "200/200 [==============================] - 0s 2ms/step - loss: 0.2493 - accuracy: 0.8733\n",
      "50/50 [==============================] - 0s 3ms/step - loss: 0.2637 - accuracy: 0.8669\n",
      "\n",
      "classification accuracy on training data: 87.33%\n",
      "classification accuracy on test data: 86.69%\n",
      "classification loss on training data: 0.249\n",
      "classification loss on test data: 0.264\n"
     ]
    }
   ],
   "source": [
    "train_loss1, train_acc1 = model2.evaluate(x_train, y_train)\n",
    "test_loss1, test_acc1 = model2.evaluate(x_test, y_test)\n",
    "\n",
    "print(f'\\nclassification accuracy on training data: {train_acc1*100:.2f}%')\n",
    "print(f'classification accuracy on test data: {test_acc1*100:.2f}%')\n",
    "print(f'classification loss on training data: {train_loss1:.3f}')\n",
    "print(f'classification loss on test data: {test_loss1:.3f}')"
   ]
  },
  {
   "cell_type": "code",
   "execution_count": 187,
   "id": "9facdcfc",
   "metadata": {},
   "outputs": [
    {
     "name": "stdout",
     "output_type": "stream",
     "text": [
      "50/50 [==============================] - 0s 2ms/step\n"
     ]
    },
    {
     "data": {
      "image/png": "[encoded data removed]",
      "text/plain": [
       "<Figure size 432x288 with 2 Axes>"
      ]
     },
     "metadata": {
      "needs_background": "light"
     },
     "output_type": "display_data"
    }
   ],
   "source": [
    "prediction = model2.predict(x_test)\n",
    "test_predict_labels1 = np.argmax(prediction, axis = 1)\n",
    "confusion_matrix1 = tf.math.confusion_matrix(labels= y_test, predictions=test_predict_labels1)\n",
    "sb.heatmap(data= confusion_matrix1, annot=True, fmt='g');"
   ]
  },
  {
   "cell_type": "markdown",
   "id": "b85e4ae8",
   "metadata": {},
   "source": [
    "####  Report what architectures you tried (expressed as 5-h1-h2-1, i.e., 5 input, h1 hidden in first layer, h2 hidden in second layer, and one output unit)\n",
    "\n"
   ]
  },
  {
   "cell_type": "markdown",
   "id": "767a0b7d",
   "metadata": {},
   "source": [
    "- The architecture is 5-h1-h2-1\n",
    "- The model acheived an 87.33% training accuracy and 86.66% testing accuracy on the training data which is a slight increase from the previous model.\n",
    "- The model uses softplus activation function in the hidden layers and sigmoid activation function in the output layer. The optimizer is Adam while the loss function is binary cross entropy.\n",
    "- While the model converges after a few iterations, I still believe that the model can still be improved to perform better and converge optimally."
   ]
  }
 ],
 "metadata": {
  "kernelspec": {
   "display_name": "Python 3 (ipykernel)",
   "language": "python",
   "name": "python3"
  },
  "language_info": {
   "codemirror_mode": {
    "name": "ipython",
    "version": 3
   },
   "file_extension": ".py",
   "mimetype": "text/x-python",
   "name": "python",
   "nbconvert_exporter": "python",
   "pygments_lexer": "ipython3",
   "version": "3.9.12"
  }
 },
 "nbformat": 4,
 "nbformat_minor": 5
}
